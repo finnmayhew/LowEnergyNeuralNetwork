{
 "cells": [
  {
   "cell_type": "code",
   "execution_count": 1,
   "metadata": {},
   "outputs": [],
   "source": [
    "import numpy\n",
    "import h5py\n",
    "import time\n",
    "import os, sys\n",
    "import random\n",
    "from collections import OrderedDict\n",
    "import itertools\n",
    "import matplotlib.pyplot as plt\n",
    "import argparse"
   ]
  },
  {
   "cell_type": "code",
   "execution_count": 2,
   "metadata": {},
   "outputs": [],
   "source": [
    "from sklearn.model_selection import train_test_split"
   ]
  },
  {
   "cell_type": "code",
   "execution_count": 3,
   "metadata": {},
   "outputs": [],
   "source": [
    "input_file = 'Level5_IC86.2013_genie_numu.014640.100.hdf5'\n",
    "filename = \"10\"\n",
    "save = False\n",
    "save_folder_name = \"CNN_test_files_%s/\"%(filename)"
   ]
  },
  {
   "cell_type": "code",
   "execution_count": 4,
   "metadata": {},
   "outputs": [],
   "source": [
    "### Import Files ###\n",
    "f = h5py.File(input_file, 'r')\n",
    "features_DC = f['features_DC'][:]\n",
    "features_IC = f['features_IC'][:]\n",
    "labels = f['labels'][:]\n",
    "f.close()\n",
    "del f"
   ]
  },
  {
   "cell_type": "code",
   "execution_count": 5,
   "metadata": {},
   "outputs": [
    {
     "name": "stdout",
     "output_type": "stream",
     "text": [
      "training on 101736 samples, testing on 11305 samples\n"
     ]
    }
   ],
   "source": [
    "# ONLY USE ENERGY FOR NOW\n",
    "labels = labels[:,0]\n",
    "\n",
    "assert features_DC.shape[0]==features_IC.shape[0], \"DC events not equal to IC events\"\n",
    "assert features_DC.shape[0]==labels.shape[0], \"DC events not equatl to IC events\"\n",
    "\n",
    "### Split into training and testing set ###\n",
    "num_train = int(features_DC.shape[0]*0.9) # 90% of data is training data (traininig+validation), 10% is test data\n",
    "print(\"training on {} samples, testing on {} samples\".format(num_train, features_DC.shape[0]-num_train))"
   ]
  },
  {
   "cell_type": "code",
   "execution_count": 6,
   "metadata": {},
   "outputs": [],
   "source": [
    "features_DC_train = features_DC[:num_train]\n",
    "features_IC_train = features_IC[:num_train]\n",
    "labels_train = labels[:num_train]\n",
    "\n",
    "features_DC_test = features_DC[num_train:]\n",
    "features_IC_test = features_IC[num_train:]\n",
    "labels_test = labels[num_train:]\n",
    "\n",
    "### Specify type for training and testing ##\n",
    "(X_train_DC_raw, X_train_IC_raw, Y_train_raw) = (features_DC_train, features_IC_train, labels_train)\n",
    "X_train_DC_raw = X_train_DC_raw.astype(\"float32\")\n",
    "X_train_IC_raw = X_train_IC_raw.astype(\"float32\")\n",
    "Y_train_raw = Y_train_raw.astype(\"float32\")\n",
    "\n",
    "(X_test_DC_raw, X_test_IC_raw, Y_test_raw) = (features_DC_test, features_IC_test, labels_test)\n",
    "X_test_DC_raw = X_test_DC_raw.astype(\"float32\")\n",
    "X_test_IC_raw = X_test_IC_raw.astype(\"float32\")\n",
    "Y_test_raw = Y_test_raw.astype(\"float32\")\n"
   ]
  },
  {
   "cell_type": "code",
   "execution_count": 7,
   "metadata": {},
   "outputs": [],
   "source": [
    "## ROBUST SCALER BY HAND ## ####\n",
    "def RobustScaler(a_list,q1,q3):\n",
    "    return [(x-q1)/(q3-q1) for x in a_list]\n",
    "\n",
    "def GetQuartiles(a_list):\n",
    "    mask_zeros = numpy.logical_or(a_list>0,a_list<0)\n",
    "    data_list_nozero = data_list[mask_zeros]\n",
    "    q1, q3 = numpy.percentile(data_list_nozero,[25,75])\n",
    "\n",
    "    return q1, q3\n",
    "\n",
    "def TransformData(full_data_set):\n",
    "    q1_array = [0.7749999761581421, 9915.0, 9963.0, 9940.4541015625, 10.824397087097168]\n",
    "    q3_array = [1.475000023841858, 10533.0, 10703.0, 10608.0, 314.53932189941406]\n",
    "\n",
    "    for data_index in range(0,full_data_set.shape[3]):\n",
    "\n",
    "        data_list = full_data_set[:,:,:,data_index].flatten()\n",
    "        data_rb = RobustScaler(data_list,q1_array[data_index],q3_array[data_index])\n",
    "        data_rb = numpy.array(data_rb)\n",
    "\n",
    "        transformed_data_set = numpy.copy(full_data_set)\n",
    "        transformed_data_set[:,:,:,0] = data_rb.reshape(full_data_set.shape[0],full_data_set.shape[1],full_data_set.shape[2])\n",
    "\n",
    "    return transformed_data_set\n"
   ]
  },
  {
   "cell_type": "code",
   "execution_count": 8,
   "metadata": {},
   "outputs": [
    {
     "name": "stdout",
     "output_type": "stream",
     "text": [
      "Finished transforming the data using Robust Scaler\n"
     ]
    }
   ],
   "source": [
    "### Transform input features into specified range ###\n",
    "X_train_DC_full = TransformData(X_train_DC_raw)\n",
    "X_test_DC_full  = TransformData(X_test_DC_raw)\n",
    "X_train_IC_full = TransformData(X_train_IC_raw)\n",
    "X_test_IC_full  = TransformData(X_test_IC_raw)\n",
    "print(\"Finished transforming the data using Robust Scaler\")"
   ]
  },
  {
   "cell_type": "code",
   "execution_count": 29,
   "metadata": {},
   "outputs": [],
   "source": [
    "# HOW SPLIT?\n",
    "#X_train_DC, X_val_DC, X_train_IC, X_val_IC, Y_train, Y_val = train_test_split(X_train_DC_selected, X_train_IC_selected, Y_train_full, test_size=0.25)\n",
    "Y_train_full = numpy.copy(Y_train_raw)\n",
    "Y_test       = numpy.copy(Y_test_raw)\n",
    "X_train_DC = numpy.copy(X_train_DC_full)\n",
    "X_test_DC           = numpy.copy(X_test_DC_full)\n",
    "X_train_IC = numpy.copy(X_train_IC_full)\n",
    "X_test_IC           = numpy.copy(X_test_IC_full)\n",
    "Y_train = numpy.copy(Y_train_full)\n",
    "\n",
    "# Return features and labels, to be used for network\n",
    "num_features_DC = X_train_DC.shape[-1]\n",
    "num_features_IC = X_train_IC.shape[-1]\n",
    "num_labels = 1 #Y_train.shape[-1] ## NEED TO CHANGE MANUALLY!"
   ]
  },
  {
   "cell_type": "code",
   "execution_count": null,
   "metadata": {},
   "outputs": [],
   "source": [
    "### Build The Network ##\n",
    "\n",
    "from keras.models import Model\n",
    "from keras.layers import Input\n",
    "from keras.layers import Dense\n",
    "from keras.layers import Flatten\n",
    "from keras.layers import Activation\n",
    "from keras.layers import Dropout\n",
    "from keras.layers import Lambda\n",
    "from keras.layers import BatchNormalization\n",
    "from keras.layers.convolutional import Conv2D\n",
    "from keras.layers.pooling import MaxPooling2D\n",
    "from keras import initializers\n",
    "from keras.optimizers import SGD\n",
    "from keras.optimizers import Adam\n",
    "\n",
    "## DEEPCORE ##\n",
    "print(\"Train Data DC\", X_train_DC.shape)\n",
    "strings = X_train_DC.shape[1]\n",
    "dom_per_string = X_train_DC.shape[2]\n",
    "dom_variables = X_train_DC.shape[3]\n",
    "\n",
    "# Conv DC + batch normalization, later dropout and maxpooling\n",
    "DC_drop_value = 0.4\n",
    "input_DC = Input(shape=(strings, dom_per_string, dom_variables))\n",
    "\n",
    "conv1_DC = Conv2D(100,kernel_size=(strings,5),padding='same',activation='relu')(input_DC)\n",
    "pool1_DC = MaxPooling2D(pool_size=(1,2))(conv1_DC)\n",
    "drop1_DC = Dropout(DC_drop_value)(pool1_DC)\n",
    "\n",
    "conv2_DC = Conv2D(100,kernel_size=(strings,3),padding='valid',activation='relu')(drop1_DC)\n",
    "pool2_DC = MaxPooling2D(pool_size=(1,2))(conv2_DC)\n",
    "drop2_DC = Dropout(DC_drop_value)(pool2_DC)\n",
    "\n",
    "conv3_DC = Conv2D(100,kernel_size=(1,7),padding='same',activation='relu')(drop2_DC)\n",
    "drop3_DC = Dropout(DC_drop_value)(conv3_DC)\n",
    "\n",
    "conv4_DC = Conv2D(100,kernel_size=(1,3),padding='same',activation='relu')(drop3_DC)\n",
    "drop4_DC = Dropout(DC_drop_value)(conv4_DC)\n",
    "\n",
    "conv5_DC = Conv2D(100,kernel_size=(1,1),padding='same',activation='relu')(drop4_DC)\n",
    "drop5_DC = Dropout(DC_drop_value)(conv5_DC)\n",
    "\n",
    "flat_DC = Flatten()(drop5_DC)\n",
    "\n",
    "# ICECUBE NEAR DEEPCORE #\n",
    "print(\"Train Data IC\", X_train_IC.shape)\n",
    "strings_IC = X_train_IC.shape[1]\n",
    "dom_per_string_IC = X_train_IC.shape[2]\n",
    "dom_variables_IC = X_train_IC.shape[3]\n",
    "\n",
    "IC_drop_value = 0.2\n",
    "input_IC = Input(shape=(strings_IC, dom_per_string_IC, dom_variables_IC))\n",
    "\n",
    "conv1_IC = Conv2D(100,kernel_size=(strings_IC,5),padding='same',activation='relu')(input_IC)\n",
    "pool1_IC = MaxPooling2D(pool_size=(1,2))(conv1_IC)\n",
    "drop1_IC = Dropout(IC_drop_value)(pool1_IC)\n",
    "\n",
    "conv2_IC = Conv2D(100,kernel_size=(strings_IC,3),padding='valid',activation='relu')(drop1_IC)\n",
    "pool2_IC = MaxPooling2D(pool_size=(1,2))(conv2_IC)\n",
    "drop2_IC = Dropout(IC_drop_value)(pool2_IC)\n",
    "\n",
    "conv3_IC = Conv2D(100,kernel_size=(1,7),padding='same',activation='relu')(drop2_IC)\n",
    "drop3_IC = Dropout(IC_drop_value)(conv3_IC)\n",
    "\n",
    "conv4_IC = Conv2D(100,kernel_size=(1,3),padding='same',activation='relu')(drop3_IC)\n",
    "drop4_IC = Dropout(IC_drop_value)(conv4_IC)\n",
    "\n",
    "conv5_IC = Conv2D(100,kernel_size=(1,1),padding='same',activation='relu')(drop4_IC)\n",
    "drop5_IC = Dropout(IC_drop_value)(conv5_IC)\n",
    "\n",
    "flat_IC = Flatten()(drop5_IC)\n",
    "\n",
    "# PUT TOGETHER #\n",
    "connected_drop_value = 0.5\n",
    "concatted = concatenate([flat_DC, flat_IC])\n",
    "\n",
    "full1 = Dense(300,activation='relu')(concatted)\n",
    "dropf = Dropout(connected_drop_value)(full1)\n",
    "\n",
    "output = Dense(num_labels, activation='linear')(dropf) #kernel_initializer=initializers.RandomUniform(minval=0., maxval=60., seed=None)\n",
    "lambda_layer = Lambda(lambda x: (x*60.)/100.)(output)\n",
    "model_DC = Model(inputs=[input_DC,input_IC],outputs=lambda_layer)\n",
    "\n",
    "print(model_DC.summary())"
   ]
  },
  {
   "cell_type": "code",
   "execution_count": 31,
   "metadata": {},
   "outputs": [],
   "source": [
    "## Run neural network and record time ##\n",
    "t0 = time.time()\n",
    "model_DC.compile(loss='mean_squared_error',\n",
    "              optimizer=Adam(lr=0.0001),\n",
    "              metrics=['mean_squared_error'])\n"
   ]
  },
  {
   "cell_type": "code",
   "execution_count": 32,
   "metadata": {},
   "outputs": [
    {
     "name": "stdout",
     "output_type": "stream",
     "text": [
      "Train on 76302 samples, validate on 25434 samples\n",
      "Epoch 1/20\n",
      "76302/76302 [==============================] - 88s 1ms/step - loss: 296.9125 - mean_squared_error: 296.9125 - val_loss: 210.8552 - val_mean_squared_error: 210.8552\n",
      "Epoch 2/20\n",
      "76302/76302 [==============================] - 87s 1ms/step - loss: 99.5417 - mean_squared_error: 99.5417 - val_loss: 159.2595 - val_mean_squared_error: 159.2595\n",
      "Epoch 3/20\n",
      "76302/76302 [==============================] - 88s 1ms/step - loss: 84.6995 - mean_squared_error: 84.6995 - val_loss: 170.2893 - val_mean_squared_error: 170.2893\n",
      "Epoch 4/20\n",
      "76302/76302 [==============================] - 87s 1ms/step - loss: 77.5036 - mean_squared_error: 77.5036 - val_loss: 185.2190 - val_mean_squared_error: 185.2190\n",
      "Epoch 5/20\n",
      "76302/76302 [==============================] - 87s 1ms/step - loss: 74.2869 - mean_squared_error: 74.2869 - val_loss: 195.2723 - val_mean_squared_error: 195.2723\n",
      "Epoch 6/20\n",
      "76302/76302 [==============================] - 87s 1ms/step - loss: 72.3201 - mean_squared_error: 72.3201 - val_loss: 181.0667 - val_mean_squared_error: 181.0667\n",
      "Epoch 7/20\n",
      "76302/76302 [==============================] - 87s 1ms/step - loss: 71.0378 - mean_squared_error: 71.0378 - val_loss: 227.5977 - val_mean_squared_error: 227.5977\n",
      "Epoch 8/20\n",
      "76302/76302 [==============================] - 87s 1ms/step - loss: 69.1791 - mean_squared_error: 69.1791 - val_loss: 210.4383 - val_mean_squared_error: 210.4383\n",
      "Epoch 9/20\n",
      "76302/76302 [==============================] - 87s 1ms/step - loss: 68.2782 - mean_squared_error: 68.2782 - val_loss: 180.7763 - val_mean_squared_error: 180.7763\n",
      "Epoch 10/20\n",
      "76302/76302 [==============================] - 86s 1ms/step - loss: 66.9425 - mean_squared_error: 66.9425 - val_loss: 180.0914 - val_mean_squared_error: 180.0914\n",
      "Epoch 11/20\n",
      "76302/76302 [==============================] - 87s 1ms/step - loss: 66.7431 - mean_squared_error: 66.7431 - val_loss: 207.2682 - val_mean_squared_error: 207.2682\n",
      "Epoch 12/20\n",
      "76302/76302 [==============================] - 88s 1ms/step - loss: 65.6574 - mean_squared_error: 65.6574 - val_loss: 195.6895 - val_mean_squared_error: 195.6895\n",
      "Epoch 13/20\n",
      "76302/76302 [==============================] - 87s 1ms/step - loss: 65.7271 - mean_squared_error: 65.7271 - val_loss: 229.1059 - val_mean_squared_error: 229.1059\n",
      "Epoch 14/20\n",
      "76302/76302 [==============================] - 87s 1ms/step - loss: 65.3334 - mean_squared_error: 65.3334 - val_loss: 220.3539 - val_mean_squared_error: 220.3539\n",
      "Epoch 15/20\n",
      "76302/76302 [==============================] - 87s 1ms/step - loss: 64.2991 - mean_squared_error: 64.2991 - val_loss: 209.0914 - val_mean_squared_error: 209.0914\n",
      "Epoch 16/20\n",
      "76302/76302 [==============================] - 87s 1ms/step - loss: 64.1141 - mean_squared_error: 64.1141 - val_loss: 232.4328 - val_mean_squared_error: 232.4328\n",
      "Epoch 17/20\n",
      "76302/76302 [==============================] - 87s 1ms/step - loss: 64.0772 - mean_squared_error: 64.0772 - val_loss: 220.5364 - val_mean_squared_error: 220.5364\n",
      "Epoch 18/20\n",
      "76302/76302 [==============================] - 87s 1ms/step - loss: 63.6703 - mean_squared_error: 63.6703 - val_loss: 221.9290 - val_mean_squared_error: 221.9290\n",
      "Epoch 19/20\n",
      "76302/76302 [==============================] - 87s 1ms/step - loss: 62.3014 - mean_squared_error: 62.3014 - val_loss: 222.6067 - val_mean_squared_error: 222.6067\n",
      "Epoch 20/20\n",
      "76302/76302 [==============================] - 87s 1ms/step - loss: 62.7438 - mean_squared_error: 62.7438 - val_loss: 198.0619 - val_mean_squared_error: 198.0619\n",
      "This took me 29.061879 minutes\n"
     ]
    }
   ],
   "source": [
    "network_history = model_DC.fit([X_train_DC, X_train_IC], Y_train,\n",
    "                            batch_size=256,\n",
    "                            validation_split=0.25,\n",
    "                            epochs=20,\n",
    "                            verbose=1)\n",
    "\n",
    "t1 = time.time()\n",
    "print(\"This took me %f minutes\"%((t1-t0)/60.))"
   ]
  },
  {
   "cell_type": "code",
   "execution_count": 33,
   "metadata": {},
   "outputs": [
    {
     "name": "stdout",
     "output_type": "stream",
     "text": [
      "11305/11305 [==============================] - 4s 320us/step\n",
      "final score on test data: loss: 207.2784 / accuracy: 207.2784\n",
      "dict_keys(['val_loss', 'val_mean_squared_error', 'loss', 'mean_squared_error'])\n",
      "[207.2784099594042, 207.27840805897299]\n"
     ]
    }
   ],
   "source": [
    "score = model_DC.evaluate([X_test_DC,X_test_IC], Y_test, batch_size=256)\n",
    "print(\"final score on test data: loss: {:.4f} / accuracy: {:.4f}\".format(score[0], score[1]))\n",
    "print(network_history.history.keys())\n",
    "print(score)"
   ]
  },
  {
   "cell_type": "code",
   "execution_count": 34,
   "metadata": {},
   "outputs": [],
   "source": [
    "def plot_history(network_history,save=False,savefolder=None):\n",
    "    \"\"\"\n",
    "    Plot history of neural network's loss vs. epoch\n",
    "    Recieves:\n",
    "        network_history = array, saved metrics from neural network training\n",
    "        save = optional, bool to save plot\n",
    "        savefolder = optional, output folder to save to, if not in current dir\n",
    "    Returns:\n",
    "        one plot, saved to files\n",
    "    \"\"\"\n",
    "    plt.figure()\n",
    "    plt.xlabel('Epochs')\n",
    "    plt.ylabel('Loss')\n",
    "    plt.plot(network_history.history['loss'])\n",
    "    plt.plot(network_history.history['val_loss'])\n",
    "    plt.legend(['Training', 'Validation'])\n",
    "    if save == True:\n",
    "        plt.savefig(\"%sloss_vs_epochs.png\"%savefolder)"
   ]
  },
  {
   "cell_type": "code",
   "execution_count": 35,
   "metadata": {},
   "outputs": [],
   "source": [
    "def plot_prediction(Y_test, Y_test_predicted,save=False,savefolder=None):\n",
    "    \"\"\"\n",
    "    Plot testing set prediction vs truth and fractional error\n",
    "    Recieves:\n",
    "        Y_test = array, Y_test truth\n",
    "        Y_test_prediction = array, neural network prediction output\n",
    "        save = optional, bool to save plot\n",
    "        savefolder = optional, output folder to save to, if not in current dir\n",
    "    Returns:\n",
    "        two plots, saved to files\n",
    "    \"\"\"\n",
    "    plt.figure()\n",
    "    cts,xbin,ybin,img = plt.hist2d(Y_test, Y_test_predicted, bins=60,)\n",
    "    plt.plot([0,60],[0,60],'k:')\n",
    "    plt.xlim(0,60)\n",
    "    plt.ylim(0,60)\n",
    "    plt.xlabel(\"True Energy\")\n",
    "    plt.ylabel(\"NN Predicted Energy\")\n",
    "    cbar = plt.colorbar()\n",
    "    cbar.ax.set_ylabel('counts', rotation=90)\n",
    "    plt.set_cmap('viridis_r')\n",
    "    plt.title(\"Prediction (from NN) vs Truth for Energy\")\n",
    "    if save == True:\n",
    "        plt.savefig(\"%senergy_prediction_truth.png\"%savefolder)\n",
    "\n",
    "    fractional_error = abs(Y_test - Y_test_predicted)/ Y_test\n",
    "    plt.figure()\n",
    "    plt.title(\"Fractional Error vs. Energy\")\n",
    "    plt.hist2d(Y_test, fractional_error,bins=60);\n",
    "    plt.xlabel(\"True Energy\")\n",
    "    plt.ylabel(\"Fractional Error\")\n",
    "    cbar = plt.colorbar()\n",
    "    cbar.ax.set_ylabel('counts', rotation=90)\n",
    "    if save == True:\n",
    "        plt.savefig(\"%sFractionalError.png\"%savefolder)\n"
   ]
  },
  {
   "cell_type": "code",
   "execution_count": 36,
   "metadata": {},
   "outputs": [
    {
     "data": {
      "image/png": "[encoded data removed]",
      "text/plain": [
       "<matplotlib.figure.Figure at 0x7fed650b87b8>"
      ]
     },
     "metadata": {},
     "output_type": "display_data"
    },
    {
     "data": {
      "image/png": "[encoded data removed]",
      "text/plain": [
       "<matplotlib.figure.Figure at 0x7fed650c3e80>"
      ]
     },
     "metadata": {},
     "output_type": "display_data"
    },
    {
     "data": {
      "image/png": "[encoded data removed]",
      "text/plain": [
       "<matplotlib.figure.Figure at 0x7fed65095908>"
      ]
     },
     "metadata": {},
     "output_type": "display_data"
    }
   ],
   "source": [
    "#Use test set to predict values\n",
    "Y_test_predicted = model_DC.predict([X_test_DC,X_test_IC])\n",
    "\n",
    "Y_test_predicted = numpy.reshape(Y_test_predicted, Y_test_predicted.shape[0])\n",
    "Y_test = numpy.reshape(Y_test, Y_test.shape[0])\n",
    "\n",
    "if save==True:\n",
    "    if os.path.isdir(save_folder_name) != True:\n",
    "        os.mkdir(save_folder_name)\n",
    "    file = open(\"%soutput.txt\"%save_folder_name,\"w\")\n",
    "    file.write(\"training on {} samples, testing on {} samples\".format(num_train, len(features)-num_train))\n",
    "    file.write(\"final score on test data: loss: {:.4f} / accuracy: {:.4f}\\n\".format(score[0], score[1]))\n",
    "    file.write(\"This took %f minutes\"%((t1-t0)/60.))\n",
    "    file.close()\n",
    "\n",
    "plot_history(network_history,save,save_folder_name)\n",
    "plot_prediction(Y_test, Y_test_predicted,save,save_folder_name)"
   ]
  },
  {
   "cell_type": "code",
   "execution_count": 37,
   "metadata": {},
   "outputs": [
    {
     "data": {
      "text/plain": [
       "(array([  28.,   78.,  155.,  266.,  329.,  370.,  423.,  470.,  442.,\n",
       "         423.,  458.,  406.,  385.,  370.,  362.,  381.,  348.,  333.,\n",
       "         299.,  282.,  266.,  253.,  246.,  236.,  219.,  215.,  171.,\n",
       "         163.,  193.,  145.,  152.,  157.,  143.,  131.,  127.,  139.,\n",
       "         122.,  115.,   84.,  103.,  104.,   82.,   76.,   82.,   78.,\n",
       "          56.,   74.,   60.,   58.,   59.,   43.,   58.,   40.,   42.,\n",
       "          36.,   35.,   26.,   24.,   38.,   22.,   23.,   17.,   26.,\n",
       "          14.,   20.,   11.,   14.,   11.,   13.,    3.,    7.,   10.,\n",
       "           6.,   11.,    2.,    7.,    5.,    5.,    1.,    1.,    2.,\n",
       "           1.,    3.,    2.,    0.,    0.,    4.,    1.,    0.,    1.,\n",
       "           0.,    1.,    0.,    0.,    0.,    1.,    0.,    0.,    0.,    1.]),\n",
       " array([  1.26486874,   1.57153512,   1.8782015 ,   2.18486789,\n",
       "          2.49153427,   2.79820065,   3.10486704,   3.41153342,\n",
       "          3.71819981,   4.02486619,   4.33153257,   4.63819896,\n",
       "          4.94486534,   5.25153172,   5.55819811,   5.86486449,\n",
       "          6.17153088,   6.47819726,   6.78486364,   7.09153003,\n",
       "          7.39819641,   7.70486279,   8.01152918,   8.31819556,\n",
       "          8.62486195,   8.93152833,   9.23819471,   9.5448611 ,\n",
       "          9.85152748,  10.15819386,  10.46486025,  10.77152663,\n",
       "         11.07819302,  11.3848594 ,  11.69152578,  11.99819217,\n",
       "         12.30485855,  12.61152493,  12.91819132,  13.2248577 ,\n",
       "         13.53152409,  13.83819047,  14.14485685,  14.45152324,\n",
       "         14.75818962,  15.064856  ,  15.37152239,  15.67818877,\n",
       "         15.98485516,  16.29152154,  16.59818792,  16.90485431,\n",
       "         17.21152069,  17.51818707,  17.82485346,  18.13151984,\n",
       "         18.43818623,  18.74485261,  19.05151899,  19.35818538,\n",
       "         19.66485176,  19.97151814,  20.27818453,  20.58485091,\n",
       "         20.8915173 ,  21.19818368,  21.50485006,  21.81151645,\n",
       "         22.11818283,  22.42484921,  22.7315156 ,  23.03818198,\n",
       "         23.34484837,  23.65151475,  23.95818113,  24.26484752,\n",
       "         24.5715139 ,  24.87818028,  25.18484667,  25.49151305,\n",
       "         25.79817944,  26.10484582,  26.4115122 ,  26.71817859,\n",
       "         27.02484497,  27.33151135,  27.63817774,  27.94484412,\n",
       "         28.25151051,  28.55817689,  28.86484327,  29.17150966,\n",
       "         29.47817604,  29.78484242,  30.09150881,  30.39817519,\n",
       "         30.70484158,  31.01150796,  31.31817434,  31.62484073,  31.93150711]),\n",
       " <a list of 100 Patch objects>)"
      ]
     },
     "execution_count": 37,
     "metadata": {},
     "output_type": "execute_result"
    },
    {
     "data": {
      "image/png": "[encoded data removed]",
      "text/plain": [
       "<matplotlib.figure.Figure at 0x7fe9ec5a5b38>"
      ]
     },
     "metadata": {},
     "output_type": "display_data"
    },
    {
     "data": {
      "image/png": "[encoded data removed]",
      "text/plain": [
       "<matplotlib.figure.Figure at 0x7fe9cc182630>"
      ]
     },
     "metadata": {},
     "output_type": "display_data"
    }
   ],
   "source": [
    "plt.hist(Y_test, bins=100)\n",
    "\n",
    "plt.figure()\n",
    "plt.hist(Y_test_predicted, bins=100)"
   ]
  },
  {
   "cell_type": "code",
   "execution_count": null,
   "metadata": {},
   "outputs": [],
   "source": [
    "print(Y_test_predicted)"
   ]
  },
  {
   "cell_type": "code",
   "execution_count": null,
   "metadata": {},
   "outputs": [],
   "source": []
  }
 ],
 "metadata": {
  "kernelspec": {
   "display_name": "Python 3",
   "language": "python",
   "name": "python3"
  },
  "language_info": {
   "codemirror_mode": {
    "name": "ipython",
    "version": 3
   },
   "file_extension": ".py",
   "mimetype": "text/x-python",
   "name": "python",
   "nbconvert_exporter": "python",
   "pygments_lexer": "ipython3",
   "version": "3.6.5"
  }
 },
 "nbformat": 4,
 "nbformat_minor": 2
}
