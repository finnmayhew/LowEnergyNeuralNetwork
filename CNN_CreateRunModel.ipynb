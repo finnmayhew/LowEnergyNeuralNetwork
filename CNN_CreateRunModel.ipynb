{
 "cells": [
  {
   "cell_type": "code",
   "execution_count": 1,
   "metadata": {},
   "outputs": [],
   "source": [
    "import numpy\n",
    "import h5py\n",
    "import time\n",
    "import os, sys\n",
    "import random\n",
    "from collections import OrderedDict\n",
    "import itertools\n",
    "import matplotlib.pyplot as plt\n",
    "import argparse"
   ]
  },
  {
   "cell_type": "code",
   "execution_count": 7,
   "metadata": {},
   "outputs": [],
   "source": [
    "from sklearn.model_selection import train_test_split"
   ]
  },
  {
   "cell_type": "code",
   "execution_count": 2,
   "metadata": {},
   "outputs": [
    {
     "name": "stdout",
     "output_type": "stream",
     "text": [
      "Training set: 119676, Testing set: 13298\n"
     ]
    }
   ],
   "source": [
    "### ONLY RUN ON PRE-TRANSFORMED FILES!!!!!!!!!! ###\n",
    "## RUN TrasnformFiles_OutputHDF5 first ### \n",
    "### Import Files ###\n",
    "#input_file = 'Level5_IC86.2013_genie_numu.014640.100.transformed_zenith.hdf5'\n",
    "file_dir = '/mnt/scratch/micall12/training_files/'\n",
    "input_file = file_dir + 'Level5_IC86.2013_genie_nue.012640.100.cascade.lt60_vertexDC.transformed.hdf5'\n",
    "filename = \"100_TEST\"\n",
    "save = False\n",
    "save_folder_name = \"CNN_test_files_%s/\"%(filename)\n",
    "\n",
    "f = h5py.File(input_file, 'r')\n",
    "Y_train = f['Y_train'][:]\n",
    "Y_test = f['Y_test'][:]\n",
    "X_train_DC = f['X_train_DC'][:]\n",
    "X_test_DC = f['X_test_DC'][:]\n",
    "X_train_IC = f['X_train_IC'][:]\n",
    "X_test_IC = f['X_test_IC'][:]\n",
    "f.close()\n",
    "del f\n",
    "\n",
    "Y_train = Y_train[:,0] # ENERGY ONLY\n",
    "#Y_test = Y_test[:,0] # ENERGY ONLY\n",
    "\n",
    "# Return features and labels, to be used for network\n",
    "num_features_DC = X_train_DC.shape[-1]\n",
    "num_features_IC = X_train_IC.shape[-1]\n",
    "num_labels = 1 #Y_train.shape[-1] ## NEED TO CHANGE MANUALLY!\n",
    "print(\"Training set: %i, Testing set: %i\"%(len(Y_train),len(Y_test)))"
   ]
  },
  {
   "cell_type": "code",
   "execution_count": 4,
   "metadata": {},
   "outputs": [
    {
     "name": "stdout",
     "output_type": "stream",
     "text": [
      "('Train Data DC', (119676, 8, 60, 5))\n",
      "('Train Data IC', (119676, 7, 60, 5))\n"
     ]
    }
   ],
   "source": [
    "### Build The Network ##\n",
    "\n",
    "from keras.models import Model\n",
    "from keras.layers import Input\n",
    "from keras.layers import Dense\n",
    "from keras.layers import Flatten\n",
    "from keras.layers import Activation\n",
    "from keras.layers import Dropout\n",
    "from keras.layers import Lambda\n",
    "from keras.layers import concatenate\n",
    "from keras.layers import BatchNormalization\n",
    "from keras.layers.convolutional import Conv2D\n",
    "from keras.layers.pooling import MaxPooling2D\n",
    "from keras import initializers\n",
    "from keras.optimizers import SGD\n",
    "from keras.optimizers import Adam\n",
    "\n",
    "## MIRCO NETWORK ##\n",
    "\n",
    "# DEEP CORE #\n",
    "print(\"Train Data DC\", X_train_DC.shape)\n",
    "strings = X_train_DC.shape[1]\n",
    "dom_per_string = X_train_DC.shape[2]\n",
    "dom_variables = X_train_DC.shape[3]\n",
    "\n",
    "# Conv DC + batch normalization, later dropout and maxpooling\n",
    "DC_drop_value = 0.2\n",
    "input_DC = Input(shape=(strings, dom_per_string, dom_variables))\n",
    "\n",
    "conv1_DC = Conv2D(100,kernel_size=(strings,5),padding='same',activation='tanh')(input_DC) #tanh\n",
    "#z1 = keras.layers.BatchNormalization()(z1)\n",
    "pool1_DC = MaxPooling2D(pool_size=(1,2))(conv1_DC)\n",
    "drop1_DC = Dropout(DC_drop_value)(pool1_DC)\n",
    "\n",
    "conv2_DC = Conv2D(100,kernel_size=(strings,7),padding='same',activation='relu')(drop1_DC) #relu\n",
    "drop2_DC = Dropout(DC_drop_value)(conv2_DC)\n",
    "\n",
    "conv3_DC = Conv2D(100,kernel_size=(strings,7),padding='same',activation='relu')(drop2_DC)\n",
    "drop3_DC = Dropout(DC_drop_value)(conv3_DC)\n",
    "\n",
    "conv4_DC = Conv2D(100,kernel_size=(strings,3),padding='valid',activation='relu')(drop3_DC)\n",
    "pool4_DC = MaxPooling2D(pool_size=(1,2))(conv4_DC)\n",
    "drop4_DC = Dropout(DC_drop_value)(pool4_DC)\n",
    "\n",
    "conv5_DC = Conv2D(100,kernel_size=(1,7),padding='same',activation='relu')(drop4_DC)\n",
    "drop5_DC = Dropout(DC_drop_value)(conv5_DC)\n",
    "\n",
    "conv6_DC = Conv2D(100,kernel_size=(1,7),padding='same',activation='relu')(drop5_DC)\n",
    "drop6_DC = Dropout(DC_drop_value)(conv6_DC)\n",
    "\n",
    "conv7_DC = Conv2D(100,kernel_size=(1,1),padding='same',activation='relu')(drop6_DC)\n",
    "drop7_DC = Dropout(DC_drop_value)(conv7_DC)\n",
    "\n",
    "conv8_DC = Conv2D(100,kernel_size=(1,1),padding='same',activation='relu')(drop7_DC)\n",
    "drop8_DC = Dropout(DC_drop_value)(conv8_DC)\n",
    "\n",
    "flat_DC = Flatten()(drop8_DC)\n",
    "\n",
    "\n",
    "# ICECUBE NEAR DEEPCORE #\n",
    "print(\"Train Data IC\", X_train_IC.shape)\n",
    "strings_IC = X_train_IC.shape[1]\n",
    "dom_per_string_IC = X_train_IC.shape[2]\n",
    "dom_variables_IC = X_train_IC.shape[3]\n",
    "\n",
    "# Conv DC + batch normalization, later dropout and maxpooling\n",
    "IC_drop_value = 0.2\n",
    "input_IC = Input(shape=(strings_IC, dom_per_string_IC, dom_variables_IC))\n",
    "\n",
    "conv1_IC = Conv2D(100,kernel_size=(strings_IC,5),padding='same',activation='tanh')(input_IC)\n",
    "pool1_IC = MaxPooling2D(pool_size=(1,2))(conv1_IC)\n",
    "drop1_IC = Dropout(IC_drop_value)(pool1_IC)\n",
    "\n",
    "conv2_IC = Conv2D(100,kernel_size=(strings_IC,7),padding='same',activation='relu')(drop1_IC)\n",
    "drop2_IC = Dropout(IC_drop_value)(conv2_IC)\n",
    "\n",
    "conv3_IC = Conv2D(100,kernel_size=(strings_IC,7),padding='same',activation='relu')(drop2_IC)\n",
    "drop3_IC = Dropout(IC_drop_value)(conv3_IC)\n",
    "\n",
    "conv4_IC = Conv2D(100,kernel_size=(strings_IC,3),padding='valid',activation='relu')(drop3_IC)\n",
    "pool4_IC = MaxPooling2D(pool_size=(1,2))(conv4_IC)\n",
    "drop4_IC = Dropout(IC_drop_value)(pool4_IC)\n",
    "\n",
    "conv5_IC = Conv2D(100,kernel_size=(1,7),padding='same',activation='relu')(drop4_IC)\n",
    "drop5_IC = Dropout(IC_drop_value)(conv5_IC)\n",
    "\n",
    "conv6_IC = Conv2D(100,kernel_size=(1,7),padding='same',activation='relu')(drop5_IC)\n",
    "drop6_IC = Dropout(IC_drop_value)(conv6_IC)\n",
    "\n",
    "conv7_IC = Conv2D(100,kernel_size=(1,1),padding='same',activation='relu')(drop6_IC)\n",
    "drop7_IC = Dropout(IC_drop_value)(conv7_IC)\n",
    "\n",
    "conv8_IC = Conv2D(100,kernel_size=(1,1),padding='same',activation='relu')(drop7_IC)\n",
    "drop8_IC = Dropout(IC_drop_value)(conv8_IC)\n",
    "\n",
    "flat_IC = Flatten()(drop8_IC)\n",
    "\n",
    "\n",
    "# PUT TOGETHER #\n",
    "connected_drop_value = 0.2\n",
    "concatted = concatenate([flat_DC, flat_IC])\n",
    "\n",
    "full1 = Dense(300,activation='relu')(concatted)\n",
    "dropf = Dropout(connected_drop_value)(full1)\n",
    "\n",
    "output = Dense(num_labels,activation='linear')(dropf)\n",
    "#lambda_layer = Lambda(lambda x: (x*20.)/1.+3)(output)\n",
    "lambda_layer = Lambda(lambda x: (x*355)/1.)(output)\n",
    "model_DC = Model(inputs=[input_DC,input_IC],outputs=lambda_layer)\n",
    "\n",
    "#print(model_DC.summary())"
   ]
  },
  {
   "cell_type": "code",
   "execution_count": 5,
   "metadata": {},
   "outputs": [],
   "source": [
    "## Compile ##\n",
    "model_DC.compile(loss='mean_squared_error',\n",
    "              optimizer=Adam(lr=0.000001), #0.00001\n",
    "              metrics=['mean_squared_error'])\n"
   ]
  },
  {
   "cell_type": "code",
   "execution_count": null,
   "metadata": {},
   "outputs": [
    {
     "name": "stdout",
     "output_type": "stream",
     "text": [
      "Train on 89757 samples, validate on 29919 samples\n",
      "Epoch 1/5\n",
      "44288/89757 [=============>................] - ETA: 6:06 - loss: 1375.3179 - mean_squared_error: 1375.3179"
     ]
    }
   ],
   "source": [
    "## Run neural network and record time ##\n",
    "t0 = time.time()\n",
    "network_history = model_DC.fit([X_train_DC, X_train_IC], Y_train,\n",
    "                            batch_size=256,\n",
    "                            validation_split=0.25,\n",
    "                            epochs=5,\n",
    "                            verbose=1)\n",
    "\n",
    "t1 = time.time()\n",
    "print(\"This took me %f minutes\"%((t1-t0)/60.))"
   ]
  },
  {
   "cell_type": "code",
   "execution_count": 46,
   "metadata": {},
   "outputs": [
    {
     "name": "stdout",
     "output_type": "stream",
     "text": [
      "13298/13298 [==============================] - 2s 181us/step\n",
      "final score on test data: loss: 74.7990 / accuracy: 74.7990\n",
      "dict_keys(['val_loss', 'val_mean_squared_error', 'loss', 'mean_squared_error'])\n",
      "[74.7989980198778, 74.798998182815694]\n"
     ]
    }
   ],
   "source": [
    "score = model_DC.evaluate([X_test_DC,X_test_IC], Y_test[:,0], batch_size=256)\n",
    "print(\"final score on test data: loss: {:.4f} / accuracy: {:.4f}\".format(score[0], score[1]))\n",
    "print(network_history.history.keys())\n",
    "print(score)"
   ]
  },
  {
   "cell_type": "code",
   "execution_count": 47,
   "metadata": {},
   "outputs": [],
   "source": [
    "def plot_history(network_history,save=False,savefolder=None):\n",
    "    \"\"\"\n",
    "    Plot history of neural network's loss vs. epoch\n",
    "    Recieves:\n",
    "        network_history = array, saved metrics from neural network training\n",
    "        save = optional, bool to save plot\n",
    "        savefolder = optional, output folder to save to, if not in current dir\n",
    "    Returns:\n",
    "        one plot, saved to files\n",
    "    \"\"\"\n",
    "    plt.figure()\n",
    "    plt.xlabel('Epochs')\n",
    "    plt.ylabel('Loss')\n",
    "    #plt.yscale('log')\n",
    "    plt.plot(network_history.history['loss'])\n",
    "    plt.plot(network_history.history['val_loss'])\n",
    "    plt.legend(['Training', 'Validation'])\n",
    "    if save == True:\n",
    "        plt.savefig(\"%sloss_vs_epochs.png\"%savefolder)"
   ]
  },
  {
   "cell_type": "code",
   "execution_count": 48,
   "metadata": {},
   "outputs": [],
   "source": [
    "#ENERGY\n",
    "def plot_prediction(Y_test, Y_test_predicted,save=False,savefolder=None):\n",
    "    \"\"\"\n",
    "    Plot testing set prediction vs truth and fractional error\n",
    "    Recieves:\n",
    "        Y_test = array, Y_test truth\n",
    "        Y_test_prediction = array, neural network prediction output\n",
    "        save = optional, bool to save plot\n",
    "        savefolder = optional, output folder to save to, if not in current dir\n",
    "    Returns:\n",
    "        two plots, saved to files\n",
    "    \"\"\"\n",
    "    plt.figure()\n",
    "    cts,xbin,ybin,img = plt.hist2d(Y_test, Y_test_predicted, bins=60,)\n",
    "    plt.plot([0,60],[0,60],'k:')\n",
    "    plt.xlim(0,60)\n",
    "    plt.ylim(0,60)\n",
    "    plt.xlabel(\"True Energy\")\n",
    "    plt.ylabel(\"NN Predicted Energy\")\n",
    "    cbar = plt.colorbar()\n",
    "    cbar.ax.set_ylabel('counts', rotation=90)\n",
    "    plt.set_cmap('viridis_r')\n",
    "    plt.title(\"Prediction (from NN) vs Truth for Energy\")\n",
    "    if save == True:\n",
    "        plt.savefig(\"%senergy_prediction_truth.png\"%savefolder)\n",
    "\n",
    "    fractional_error = abs(Y_test - Y_test_predicted)/ Y_test\n",
    "    plt.figure()\n",
    "    plt.title(\"Fractional Error vs. Energy\")\n",
    "    plt.hist2d(Y_test, fractional_error,bins=60);\n",
    "    plt.xlabel(\"True Energy\")\n",
    "    plt.ylabel(\"Fractional Error\")\n",
    "    #plt.ylim(0,0.5)\n",
    "    cbar = plt.colorbar()\n",
    "    cbar.ax.set_ylabel('counts', rotation=90)\n",
    "    if save == True:\n",
    "        plt.savefig(\"%sFractionalError.png\"%savefolder)\n"
   ]
  },
  {
   "cell_type": "code",
   "execution_count": 51,
   "metadata": {},
   "outputs": [],
   "source": [
    "#Use test set to predict values\n",
    "Y_test_predicted = model_DC.predict([X_test_DC,X_test_IC])\n",
    "\n",
    "Y_test_all_labels = numpy.copy(Y_test)\n",
    "Y_test_predicted = numpy.reshape(Y_test_predicted, Y_test_predicted.shape[0])\n",
    "Y_test = numpy.reshape(Y_test[:,0], Y_test.shape[0])\n",
    "\n",
    "if save==True:\n",
    "    if os.path.isdir(save_folder_name) != True:\n",
    "        os.mkdir(save_folder_name)\n",
    "    file = open(\"%soutput.txt\"%save_folder_name,\"w\")\n",
    "    file.write(\"training on {} samples, testing on {} samples\".format(num_train, len(features)-num_train))\n",
    "    file.write(\"final score on test data: loss: {:.4f} / accuracy: {:.4f}\\n\".format(score[0], score[1]))\n",
    "    file.write(\"This took %f minutes\"%((t1-t0)/60.))\n",
    "    file.close()"
   ]
  },
  {
   "cell_type": "code",
   "execution_count": 2,
   "metadata": {},
   "outputs": [],
   "source": [
    "def plot_distribution(Y_test,Y_test_prediction,all_Y_test_labels):\n",
    "    CC_mask = Y_test_all_labels[:,11] ==1\n",
    "    NC_mask = Y_test_all_labels[:,11] ==0\n",
    "\n",
    "    plt.figure()\n",
    "    plt.title(\"True Energy Distribution\")\n",
    "    plt.hist(Y_test[CC_mask], bins=100,color='b',alpha=0.5,label=\"CC\");\n",
    "    plt.hist(Y_test[NC_mask], bins=100,color='g',alpha=0.5,label=\"NC\");\n",
    "    plt.legend()\n",
    "\n",
    "    plt.figure()\n",
    "    plt.title(\"NN Energy Distribution\")\n",
    "    plt.hist(Y_test_predicted[CC_mask], bins=100,color='b', alpha=0.5, label=\"CC\");\n",
    "    plt.hist(Y_test_predicted[NC_mask], bins=100,color='g', alpha=0.5, label=\"NC\");\n",
    "    plt.legend()\n",
    "\n",
    "def plot_resolution(Y_test,Y_test_prediction,all_Y_test_labels):\n",
    "    CC_mask = Y_test_all_labels[:,11] ==1\n",
    "    NC_mask = Y_test_all_labels[:,11] ==0\n",
    "    \n",
    "    resolution = Y_test_predicted - Y_test\n",
    "    resolution_fraction = (Y_test_predicted- Y_test)/Y_test\n",
    "\n",
    "    plt.figure()  \n",
    "    plt.title(\"Energy Resolution\")\n",
    "    plt.hist(resolution[CC_mask], bins=50,color='b', alpha=0.5, label=\"CC\");\n",
    "    plt.hist(resolution[NC_mask], bins=50,color='g', alpha=0.5, label=\"NC\");\n",
    "    plt.xlabel(\"NN prediction - truth (GeV)\")\n",
    "    plt.legend()\n",
    "\n",
    "    plt.figure()  \n",
    "    plt.title(\"Fractional Energy Resolution\")\n",
    "    plt.hist(resolution_fraction[CC_mask], bins=50,color='b', alpha=0.5, label=\"CC\");\n",
    "    plt.hist(resolution_fraction[NC_mask], bins=50,color='g', alpha=0.5, label=\"NC\");\n",
    "    plt.xlabel(\"(NN prediction - truth) / truth\")\n",
    "    plt.legend()"
   ]
  },
  {
   "cell_type": "code",
   "execution_count": 3,
   "metadata": {},
   "outputs": [
    {
     "ename": "NameError",
     "evalue": "name 'Y_test' is not defined",
     "output_type": "error",
     "traceback": [
      "\u001b[0;31m---------------------------------------------------------------------------\u001b[0m",
      "\u001b[0;31mNameError\u001b[0m                                 Traceback (most recent call last)",
      "\u001b[0;32m<ipython-input-3-6fb0733f6a16>\u001b[0m in \u001b[0;36m<module>\u001b[0;34m()\u001b[0m\n\u001b[0;32m----> 1\u001b[0;31m \u001b[0mplot_distribution\u001b[0m\u001b[0;34m(\u001b[0m\u001b[0mY_test\u001b[0m\u001b[0;34m,\u001b[0m\u001b[0mY_test_prediction\u001b[0m\u001b[0;34m,\u001b[0m\u001b[0mall_Y_test_labels\u001b[0m\u001b[0;34m)\u001b[0m\u001b[0;34m\u001b[0m\u001b[0m\n\u001b[0m\u001b[1;32m      2\u001b[0m \u001b[0mplot_resolution\u001b[0m\u001b[0;34m(\u001b[0m\u001b[0mY_test\u001b[0m\u001b[0;34m,\u001b[0m\u001b[0mY_test_prediction\u001b[0m\u001b[0;34m,\u001b[0m\u001b[0mall_Y_test_labels\u001b[0m\u001b[0;34m)\u001b[0m\u001b[0;34m\u001b[0m\u001b[0m\n",
      "\u001b[0;31mNameError\u001b[0m: name 'Y_test' is not defined"
     ]
    }
   ],
   "source": [
    "plot_distribution(Y_test,Y_test_prediction,all_Y_test_labels)\n",
    "plot_resolution(Y_test,Y_test_prediction,all_Y_test_labels)"
   ]
  },
  {
   "cell_type": "code",
   "execution_count": 54,
   "metadata": {},
   "outputs": [
    {
     "data": {
      "image/png": "[encoded data removed]",
      "text/plain": [
       "<matplotlib.figure.Figure at 0x7f3983c1a240>"
      ]
     },
     "metadata": {},
     "output_type": "display_data"
    },
    {
     "data": {
      "image/png": "[encoded data removed]",
      "text/plain": [
       "<matplotlib.figure.Figure at 0x7f3983c1a400>"
      ]
     },
     "metadata": {},
     "output_type": "display_data"
    },
    {
     "data": {
      "image/png": "[encoded data removed]",
      "text/plain": [
       "<matplotlib.figure.Figure at 0x7f39cfae4c18>"
      ]
     },
     "metadata": {},
     "output_type": "display_data"
    }
   ],
   "source": [
    "plot_history(network_history,save,save_folder_name)\n",
    "plot_prediction(Y_test, Y_test_predicted,save,save_folder_name)"
   ]
  },
  {
   "cell_type": "code",
   "execution_count": 55,
   "metadata": {},
   "outputs": [
    {
     "ename": "NameError",
     "evalue": "name 'mask_CC' is not defined",
     "output_type": "error",
     "traceback": [
      "\u001b[0;31m---------------------------------------------------------------------------\u001b[0m",
      "\u001b[0;31mNameError\u001b[0m                                 Traceback (most recent call last)",
      "\u001b[0;32m<ipython-input-55-de1ce85bf85b>\u001b[0m in \u001b[0;36m<module>\u001b[0;34m()\u001b[0m\n\u001b[1;32m      1\u001b[0m \u001b[0mplt\u001b[0m\u001b[0;34m.\u001b[0m\u001b[0mfigure\u001b[0m\u001b[0;34m(\u001b[0m\u001b[0;34m)\u001b[0m\u001b[0;34m\u001b[0m\u001b[0m\n\u001b[0;32m----> 2\u001b[0;31m \u001b[0mcts\u001b[0m\u001b[0;34m,\u001b[0m\u001b[0mxbin\u001b[0m\u001b[0;34m,\u001b[0m\u001b[0mybin\u001b[0m\u001b[0;34m,\u001b[0m\u001b[0mimg\u001b[0m \u001b[0;34m=\u001b[0m \u001b[0mplt\u001b[0m\u001b[0;34m.\u001b[0m\u001b[0mhist2d\u001b[0m\u001b[0;34m(\u001b[0m\u001b[0mY_test\u001b[0m\u001b[0;34m[\u001b[0m\u001b[0mmask_CC\u001b[0m\u001b[0;34m]\u001b[0m\u001b[0;34m,\u001b[0m \u001b[0mY_test_predicted\u001b[0m\u001b[0;34m[\u001b[0m\u001b[0mmask_CC\u001b[0m\u001b[0;34m]\u001b[0m\u001b[0;34m,\u001b[0m \u001b[0mbins\u001b[0m\u001b[0;34m=\u001b[0m\u001b[0;36m60\u001b[0m\u001b[0;34m,\u001b[0m\u001b[0;34m)\u001b[0m\u001b[0;34m\u001b[0m\u001b[0m\n\u001b[0m\u001b[1;32m      3\u001b[0m \u001b[0mplt\u001b[0m\u001b[0;34m.\u001b[0m\u001b[0mplot\u001b[0m\u001b[0;34m(\u001b[0m\u001b[0;34m[\u001b[0m\u001b[0;36m0\u001b[0m\u001b[0;34m,\u001b[0m\u001b[0;36m60\u001b[0m\u001b[0;34m]\u001b[0m\u001b[0;34m,\u001b[0m\u001b[0;34m[\u001b[0m\u001b[0;36m0\u001b[0m\u001b[0;34m,\u001b[0m\u001b[0;36m60\u001b[0m\u001b[0;34m]\u001b[0m\u001b[0;34m,\u001b[0m\u001b[0;34m'k:'\u001b[0m\u001b[0;34m)\u001b[0m\u001b[0;34m\u001b[0m\u001b[0m\n\u001b[1;32m      4\u001b[0m \u001b[0mplt\u001b[0m\u001b[0;34m.\u001b[0m\u001b[0mxlim\u001b[0m\u001b[0;34m(\u001b[0m\u001b[0;36m0\u001b[0m\u001b[0;34m,\u001b[0m\u001b[0;36m60\u001b[0m\u001b[0;34m)\u001b[0m\u001b[0;34m\u001b[0m\u001b[0m\n\u001b[1;32m      5\u001b[0m \u001b[0mplt\u001b[0m\u001b[0;34m.\u001b[0m\u001b[0mylim\u001b[0m\u001b[0;34m(\u001b[0m\u001b[0;36m0\u001b[0m\u001b[0;34m,\u001b[0m\u001b[0;36m60\u001b[0m\u001b[0;34m)\u001b[0m\u001b[0;34m\u001b[0m\u001b[0m\n",
      "\u001b[0;31mNameError\u001b[0m: name 'mask_CC' is not defined"
     ]
    },
    {
     "data": {
      "text/plain": [
       "<matplotlib.figure.Figure at 0x7f39cfc141d0>"
      ]
     },
     "metadata": {},
     "output_type": "display_data"
    }
   ],
   "source": [
    "plt.figure()\n",
    "cts,xbin,ybin,img = plt.hist2d(Y_test[CC_mask], Y_test_predicted[CC_mask], bins=60,)\n",
    "plt.plot([0,60],[0,60],'k:')\n",
    "plt.xlim(0,60)\n",
    "plt.ylim(0,60)\n",
    "plt.xlabel(\"True Energy\")\n",
    "plt.ylabel(\"NN Predicted Energy\")\n",
    "cbar = plt.colorbar()\n",
    "cbar.ax.set_ylabel('counts', rotation=90)\n",
    "plt.set_cmap('viridis_r')\n",
    "plt.title(\"Prediction (from NN) vs Truth for Energy - CC ONLY\")"
   ]
  },
  {
   "cell_type": "code",
   "execution_count": 56,
   "metadata": {},
   "outputs": [
    {
     "ename": "NameError",
     "evalue": "name 'mask_NC' is not defined",
     "output_type": "error",
     "traceback": [
      "\u001b[0;31m---------------------------------------------------------------------------\u001b[0m",
      "\u001b[0;31mNameError\u001b[0m                                 Traceback (most recent call last)",
      "\u001b[0;32m<ipython-input-56-8f2092537d08>\u001b[0m in \u001b[0;36m<module>\u001b[0;34m()\u001b[0m\n\u001b[1;32m      1\u001b[0m \u001b[0mplt\u001b[0m\u001b[0;34m.\u001b[0m\u001b[0mfigure\u001b[0m\u001b[0;34m(\u001b[0m\u001b[0;34m)\u001b[0m\u001b[0;34m\u001b[0m\u001b[0m\n\u001b[0;32m----> 2\u001b[0;31m \u001b[0mcts\u001b[0m\u001b[0;34m,\u001b[0m\u001b[0mxbin\u001b[0m\u001b[0;34m,\u001b[0m\u001b[0mybin\u001b[0m\u001b[0;34m,\u001b[0m\u001b[0mimg\u001b[0m \u001b[0;34m=\u001b[0m \u001b[0mplt\u001b[0m\u001b[0;34m.\u001b[0m\u001b[0mhist2d\u001b[0m\u001b[0;34m(\u001b[0m\u001b[0mY_test\u001b[0m\u001b[0;34m[\u001b[0m\u001b[0mmask_NC\u001b[0m\u001b[0;34m]\u001b[0m\u001b[0;34m,\u001b[0m \u001b[0mY_test_predicted\u001b[0m\u001b[0;34m[\u001b[0m\u001b[0mmask_NC\u001b[0m\u001b[0;34m]\u001b[0m\u001b[0;34m,\u001b[0m \u001b[0mbins\u001b[0m\u001b[0;34m=\u001b[0m\u001b[0;36m60\u001b[0m\u001b[0;34m,\u001b[0m\u001b[0;34m)\u001b[0m\u001b[0;34m\u001b[0m\u001b[0m\n\u001b[0m\u001b[1;32m      3\u001b[0m \u001b[0mplt\u001b[0m\u001b[0;34m.\u001b[0m\u001b[0mplot\u001b[0m\u001b[0;34m(\u001b[0m\u001b[0;34m[\u001b[0m\u001b[0;36m0\u001b[0m\u001b[0;34m,\u001b[0m\u001b[0;36m60\u001b[0m\u001b[0;34m]\u001b[0m\u001b[0;34m,\u001b[0m\u001b[0;34m[\u001b[0m\u001b[0;36m0\u001b[0m\u001b[0;34m,\u001b[0m\u001b[0;36m60\u001b[0m\u001b[0;34m]\u001b[0m\u001b[0;34m,\u001b[0m\u001b[0;34m'k:'\u001b[0m\u001b[0;34m)\u001b[0m\u001b[0;34m\u001b[0m\u001b[0m\n\u001b[1;32m      4\u001b[0m \u001b[0mplt\u001b[0m\u001b[0;34m.\u001b[0m\u001b[0mxlim\u001b[0m\u001b[0;34m(\u001b[0m\u001b[0;36m0\u001b[0m\u001b[0;34m,\u001b[0m\u001b[0;36m60\u001b[0m\u001b[0;34m)\u001b[0m\u001b[0;34m\u001b[0m\u001b[0m\n\u001b[1;32m      5\u001b[0m \u001b[0mplt\u001b[0m\u001b[0;34m.\u001b[0m\u001b[0mylim\u001b[0m\u001b[0;34m(\u001b[0m\u001b[0;36m0\u001b[0m\u001b[0;34m,\u001b[0m\u001b[0;36m60\u001b[0m\u001b[0;34m)\u001b[0m\u001b[0;34m\u001b[0m\u001b[0m\n",
      "\u001b[0;31mNameError\u001b[0m: name 'mask_NC' is not defined"
     ]
    },
    {
     "data": {
      "text/plain": [
       "<matplotlib.figure.Figure at 0x7f39cf969588>"
      ]
     },
     "metadata": {},
     "output_type": "display_data"
    }
   ],
   "source": [
    "plt.figure()\n",
    "cts,xbin,ybin,img = plt.hist2d(Y_test[NC_mask], Y_test_predicted[NC_mask], bins=60,)\n",
    "plt.plot([0,60],[0,60],'k:')\n",
    "plt.xlim(0,60)\n",
    "plt.ylim(0,60)\n",
    "plt.xlabel(\"True Energy\")\n",
    "plt.ylabel(\"NN Predicted Energy\")\n",
    "cbar = plt.colorbar()\n",
    "cbar.ax.set_ylabel('counts', rotation=90)\n",
    "plt.set_cmap('viridis_r')\n",
    "plt.title(\"Prediction (from NN) vs Truth for Energy - NC ONLY\")"
   ]
  },
  {
   "cell_type": "code",
   "execution_count": null,
   "metadata": {},
   "outputs": [],
   "source": []
  }
 ],
 "metadata": {
  "kernelspec": {
   "display_name": "CNN_jupyter",
   "language": "python",
   "name": "cnn_jupyter"
  },
  "language_info": {
   "codemirror_mode": {
    "name": "ipython",
    "version": 2
   },
   "file_extension": ".py",
   "mimetype": "text/x-python",
   "name": "python",
   "nbconvert_exporter": "python",
   "pygments_lexer": "ipython2",
   "version": "2.7.15"
  }
 },
 "nbformat": 4,
 "nbformat_minor": 2
}
